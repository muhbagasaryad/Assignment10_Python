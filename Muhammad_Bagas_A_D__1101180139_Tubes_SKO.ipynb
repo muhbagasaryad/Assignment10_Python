{
  "nbformat": 4,
  "nbformat_minor": 0,
  "metadata": {
    "colab": {
      "name": "Muhammad Bagas A. D._1101180139_Tubes SKO.ipynb",
      "provenance": [],
      "collapsed_sections": [],
      "authorship_tag": "ABX9TyPaer61A8hGxKZM0TMb15p+",
      "include_colab_link": true
    },
    "kernelspec": {
      "name": "python3",
      "display_name": "Python 3"
    }
  },
  "cells": [
    {
      "cell_type": "markdown",
      "metadata": {
        "id": "view-in-github",
        "colab_type": "text"
      },
      "source": [
        "<a href=\"https://colab.research.google.com/github/muhbagasaryad/Python/blob/main/Muhammad_Bagas_A_D__1101180139_Tubes_SKO.ipynb\" target=\"_parent\"><img src=\"https://colab.research.google.com/assets/colab-badge.svg\" alt=\"Open In Colab\"/></a>"
      ]
    },
    {
      "cell_type": "markdown",
      "metadata": {
        "id": "MyxqKHLBtbaC"
      },
      "source": [
        "Nama : Muhammad Bagas Arya Darmawan \r\n",
        "\r\n",
        "NIM : 1101180139\r\n",
        "\r\n",
        "Kelas : TT-42-07"
      ]
    },
    {
      "cell_type": "code",
      "metadata": {
        "id": "6HPvuz1ptV58"
      },
      "source": [
        "import math as m\r\n",
        "import matplotlib.pyplot as plt\r\n",
        "import numpy as np"
      ],
      "execution_count": 1,
      "outputs": []
    },
    {
      "cell_type": "markdown",
      "metadata": {
        "id": "wJkigP_quEdN"
      },
      "source": [
        "Objek perancangan FTTB :\r\n",
        "\r\n",
        "--> Sentral - ODC - ONU - ODP - roset\r\n",
        "\r\n",
        "- 1 Gedung = 40 Lantai\r\n",
        "\r\n",
        "- 1 Lantai = 20 kamar\r\n",
        "\r\n",
        "- 6 Connector dan 2 spliter\r\n",
        "\r\n",
        "- 1 spliter dengan redaman 19.5 dB perbandungan 1:64 dari ONU ke ODP dan 1 spliter dengan redaman 16 dB perbandingan 1:32 dari ODP ke roset.\r\n",
        "\r\n",
        "- jenis fiber G625D dengan panjang gelombang 1310 nm dengan redaman 0.35 dB/Km\r\n",
        "\r\n",
        "- 8 Splicer dengan redaman 0.1 dB\r\n",
        "\r\n",
        "***\r\n",
        "\r\n",
        "***\r\n",
        "\r\n",
        "- Jarak Sentral ke ONU = 18 Km\r\n",
        "- Jarak ONU ke Roset = 4 x 3 = 12 meter\r\n",
        "- Total jarak = 18 Km + 12 meter = 180012 meter atau 18.012 Km"
      ]
    },
    {
      "cell_type": "markdown",
      "metadata": {
        "id": "WBjku3q-tzef"
      },
      "source": [
        "Parameter - parameter"
      ]
    },
    {
      "cell_type": "code",
      "metadata": {
        "id": "dsxKyrW9ts5c"
      },
      "source": [
        "#dayaterima (Pr)\r\n",
        "\r\n",
        "d= np.arange(1.012,18.013,1)\r\n",
        "#print(d)\r\n",
        "lf = 0.35 * d #dB (loss fiber)\r\n",
        "ns = 8 #jumlah Splicer\r\n",
        "ls = 0.1 * 8 #dB (loss Splicer dikali ns)\r\n",
        "nc = 6 #jumlah connector\r\n",
        "lc = 0.3 * 6 #dB (loss connector dikali nc)\r\n",
        "l_sp = 16 + 19.5 #dB (loss Splitter 1:64 dan 1:32)\r\n",
        "pt = 5 #dBm\r\n",
        "\r\n",
        "#SNR\r\n",
        "\r\n",
        "R = 0.85 #A/W (Responsifitas)\r\n",
        "M = -0.23 #db (Tambahan daya sinyal)\r\n",
        "lm = 3 #dB (loss margin)\r\n",
        "q = 1.6*10**-19 #Muatan\r\n",
        "#ip = 1 #\r\n",
        "id = 2*10**-7 #Ampere (arus gelap)\r\n",
        "B = 8*10**9 #Bandwith\r\n",
        "F = 1 #noise figure\r\n",
        "K = 1.38*10**-23 #k.boltzman\r\n",
        "teff = 290 #kelvin\r\n",
        "RL = 50 #\r\n",
        "\r\n",
        "#Convert\r\n",
        "\r\n",
        "NtL = lambda x : 10 * np.log10(x)\r\n",
        "LtN = lambda x : 10**(x/10)"
      ],
      "execution_count": 2,
      "outputs": []
    },
    {
      "cell_type": "markdown",
      "metadata": {
        "id": "1-lfpcd5AiPr"
      },
      "source": [
        "Fungsi Pr (daya terima)\r\n"
      ]
    },
    {
      "cell_type": "code",
      "metadata": {
        "colab": {
          "base_uri": "https://localhost:8080/"
        },
        "id": "mZD9oPzazVGb",
        "outputId": "04e47d74-8079-40bb-dbf7-efac13e5c514"
      },
      "source": [
        "def PR(pt,d,lf,ns,ls,nc,lc,l_sp,lm):\r\n",
        "  RT = lf + ls + lc + l_sp + lm\r\n",
        "  pr = pt - RT\r\n",
        "  return pr\r\n",
        "pr = PR(pt,d,lf,ns,ls,nc,lc,l_sp,lm)\r\n",
        "print(pr)"
      ],
      "execution_count": 3,
      "outputs": [
        {
          "output_type": "stream",
          "text": [
            "[-36.4542 -36.8042 -37.1542 -37.5042 -37.8542 -38.2042 -38.5542 -38.9042\n",
            " -39.2542 -39.6042 -39.9542 -40.3042 -40.6542 -41.0042 -41.3542 -41.7042\n",
            " -42.0542 -42.4042]\n"
          ],
          "name": "stdout"
        }
      ]
    },
    {
      "cell_type": "markdown",
      "metadata": {
        "id": "qOk4yQueE6_T"
      },
      "source": [
        "Fungsi SNR"
      ]
    },
    {
      "cell_type": "code",
      "metadata": {
        "colab": {
          "base_uri": "https://localhost:8080/"
        },
        "id": "JvXKnCsU_g1j",
        "outputId": "8ddd54f8-02d7-44f0-e01a-116aff7e0ca3"
      },
      "source": [
        "#Arus primer\r\n",
        "def ap(pr):\r\n",
        "  pr_num = LtN(pr)\r\n",
        "  ip = pr_num * R\r\n",
        "  return ip\r\n",
        "ip = ap(pr)\r\n",
        "#print(ip)\r\n",
        "\r\n",
        "#BDC\r\n",
        "def bdc(q,id,B,M,F):\r\n",
        "  BDC = 2*q*id*B*M*M*F\r\n",
        "  return BDC\r\n",
        "BDC = bdc(q,id,B,M,F)\r\n",
        "#print(BDC)\r\n",
        "\r\n",
        "#SN (shot noise)\r\n",
        "def sn(q,ip,B,M,F):\r\n",
        "  SN = 2*q*ip*B*M*M*F\r\n",
        "  return SN\r\n",
        "SN = sn(q,ip,B,M,F)\r\n",
        "#print(SN)\r\n",
        "\r\n",
        "#NT (noise thermal)\r\n",
        "def nt(K,teff,B,RL):\r\n",
        "  NT = (4*K*teff*B)/RL\r\n",
        "  return NT\r\n",
        "NT = nt(K,teff,B,RL)\r\n",
        "#print(NT)\r\n",
        "\r\n",
        "#SNR (signal noise ratio)\r\n",
        "def snr(BDC,SN,NT,M,ip):\r\n",
        "  SNR = ((ip)**2 * M**2)/(BDC + SN + NT)\r\n",
        "  SNR1 = NtL(SNR) #dalam dB \r\n",
        "  return SNR1\r\n",
        "SNR1 = snr(BDC,SN,NT,M,ip)\r\n",
        "print(SNR1) #dB"
      ],
      "execution_count": 4,
      "outputs": [
        {
          "output_type": "stream",
          "text": [
            "[28.78598292 28.08936898 27.3924952  26.69538136 25.99804575 25.30050529\n",
            " 24.60277563 23.90487123 23.20680547 22.50859071 21.81023838 21.11175902\n",
            " 20.41316239 19.7144575  19.01565268 18.3167556  17.61777338 16.91871257]\n"
          ],
          "name": "stdout"
        }
      ]
    },
    {
      "cell_type": "markdown",
      "metadata": {
        "id": "y7PO0yi1UDOX"
      },
      "source": [
        "Fungsi Q-Faktor"
      ]
    },
    {
      "cell_type": "code",
      "metadata": {
        "colab": {
          "base_uri": "https://localhost:8080/"
        },
        "id": "jnlToLOtFYbi",
        "outputId": "d3a100d5-66c6-40f6-9603-3f5cd0f6af4f"
      },
      "source": [
        "#Q-Faktor\r\n",
        "def qf(SNR1):\r\n",
        "  qf = 10**(SNR1/20)\r\n",
        "  return qf\r\n",
        "QF = qf(SNR1)\r\n",
        "print(QF)"
      ],
      "execution_count": 5,
      "outputs": [
        {
          "output_type": "stream",
          "text": [
            "[27.4978758  25.37864606 23.42204225 21.61568824 19.94813449 18.4087909\n",
            " 16.98786424 15.67629984 14.4657273  13.34840994 12.31719789 11.36548442\n",
            " 10.48716544  9.67660192  8.92858493  8.23830336  7.60131393  7.01351336]\n"
          ],
          "name": "stdout"
        }
      ]
    },
    {
      "cell_type": "markdown",
      "metadata": {
        "id": "vwPxljqle_iR"
      },
      "source": [
        "Fungsi BER "
      ]
    },
    {
      "cell_type": "code",
      "metadata": {
        "colab": {
          "base_uri": "https://localhost:8080/"
        },
        "id": "364cbuIFZH7Y",
        "outputId": "8dfe9719-ea43-4212-d2c6-9069057dac63"
      },
      "source": [
        "def ber(QF):\r\n",
        "  phi = 3.14159\r\n",
        "  BER = (1/(QF*np.sqrt(2*phi)))*(np.exp(-QF**2/2))\r\n",
        "  return BER\r\n",
        "BER = ber(QF)\r\n",
        "print(BER)"
      ],
      "execution_count": 6,
      "outputs": [
        {
          "output_type": "stream",
          "text": [
            "[9.31920001e-167 2.17363109e-142 1.27653455e-121 6.40771713e-104\n",
            " 7.79875960e-089 5.60080026e-076 5.06740077e-065 1.10285646e-055\n",
            " 1.00214819e-047 6.08379979e-041 3.68349404e-035 3.12963253e-030\n",
            " 4.99183023e-026 1.91537001e-022 2.18388706e-019 8.85863673e-017\n",
            " 1.49025214e-014 1.18478277e-012]\n"
          ],
          "name": "stdout"
        }
      ]
    },
    {
      "cell_type": "markdown",
      "metadata": {
        "id": "cS6i2eIH-xn_"
      },
      "source": [
        "Grafik SNR"
      ]
    },
    {
      "cell_type": "code",
      "metadata": {
        "colab": {
          "base_uri": "https://localhost:8080/",
          "height": 295
        },
        "id": "QwY2wJJ8-NwR",
        "outputId": "e637e299-e177-4fe8-d9dd-64aed199ef92"
      },
      "source": [
        "def g_snr():\r\n",
        "  plt.figure()\r\n",
        "  plt.plot(d,SNR1,'--')\r\n",
        "  plt.title('Perbandingan Jarak dengan SNR')\r\n",
        "  plt.xlabel('Jarak (Km)')\r\n",
        "  plt.ylabel('SNR (dB)')\r\n",
        "  plt.show()\r\n",
        "\r\n",
        "g_snr()"
      ],
      "execution_count": 7,
      "outputs": [
        {
          "output_type": "display_data",
          "data": {
            "image/png": "[encoded data removed]",
            "text/plain": [
              "<Figure size 432x288 with 1 Axes>"
            ]
          },
          "metadata": {
            "tags": [],
            "needs_background": "light"
          }
        }
      ]
    },
    {
      "cell_type": "markdown",
      "metadata": {
        "id": "13KzCVYOzGi-"
      },
      "source": [
        "dari gambar diatas dapat di simpulkan bahwa jika jarak semakin besar makan SNR semakin kecil, maka dari itu semakin jauh jarak, SNR semakin kurang bagus"
      ]
    },
    {
      "cell_type": "markdown",
      "metadata": {
        "id": "iv9vHN9I_PK2"
      },
      "source": [
        "Grafik Q-Faktor"
      ]
    },
    {
      "cell_type": "code",
      "metadata": {
        "colab": {
          "base_uri": "https://localhost:8080/",
          "height": 295
        },
        "id": "fSBDnllN_X1J",
        "outputId": "7f4007a1-c249-44d9-e56c-f17cdabef537"
      },
      "source": [
        "def g_Q():\r\n",
        "  plt.figure()\r\n",
        "  plt.plot(d,QF,'--')\r\n",
        "  plt.title('Perbandingan Jarak dengan Q')\r\n",
        "  plt.xlabel('Jarak (Km)')\r\n",
        "  plt.ylabel('Q')\r\n",
        "  plt.show()\r\n",
        "\r\n",
        "g_Q()"
      ],
      "execution_count": 8,
      "outputs": [
        {
          "output_type": "display_data",
          "data": {
            "image/png": "[encoded data removed]",
            "text/plain": [
              "<Figure size 432x288 with 1 Axes>"
            ]
          },
          "metadata": {
            "tags": [],
            "needs_background": "light"
          }
        }
      ]
    },
    {
      "cell_type": "markdown",
      "metadata": {
        "id": "Sp2dgx5Szt_b"
      },
      "source": [
        "dilihat dari gambar diatas dapat disimpulkan bahwa perbandingan jarak dengan Q, dimana jika jarak semakin jauh maka Q semakin kecil."
      ]
    },
    {
      "cell_type": "markdown",
      "metadata": {
        "id": "F4VK7Omy_R6L"
      },
      "source": [
        "Grafik BER"
      ]
    },
    {
      "cell_type": "code",
      "metadata": {
        "colab": {
          "base_uri": "https://localhost:8080/",
          "height": 295
        },
        "id": "VsmWrCnx_cqM",
        "outputId": "3077f23e-68b5-43a2-8ab8-6e2f2e589eac"
      },
      "source": [
        "def g_BER():\r\n",
        "  plt.figure()\r\n",
        "  plt.plot(d,BER,'--')\r\n",
        "  plt.title('Perbandingan Jarak dengan BER')\r\n",
        "  plt.xlabel('Jarak (Km)')\r\n",
        "  plt.ylabel('BER')\r\n",
        "  plt.show()\r\n",
        "\r\n",
        "g_BER()"
      ],
      "execution_count": 9,
      "outputs": [
        {
          "output_type": "display_data",
          "data": {
            "image/png": "[encoded data removed]",
            "text/plain": [
              "<Figure size 432x288 with 1 Axes>"
            ]
          },
          "metadata": {
            "tags": [],
            "needs_background": "light"
          }
        }
      ]
    },
    {
      "cell_type": "markdown",
      "metadata": {
        "id": "MBrySevbz9Xu"
      },
      "source": [
        "dilihat dari gambar diatas dapat disimpulkan bahwa jarak yang dilalui dari 0 hingga kurang dari 17.5 BER konstan, lalu ketika jarak melebihi itu BER langsung melonjak naik, maka semakin jelek BER nya jika jarak sudah melebihi jarak >= +/-17.5"
      ]
    },
    {
      "cell_type": "markdown",
      "metadata": {
        "id": "H6B2RV1jH2jv"
      },
      "source": [
        "Grafik perbandingan BER dengan SNR"
      ]
    },
    {
      "cell_type": "code",
      "metadata": {
        "colab": {
          "base_uri": "https://localhost:8080/",
          "height": 295
        },
        "id": "frEcXpOEH1VZ",
        "outputId": "3fbbcd4f-afd6-45b9-f257-b216f7b18ea5"
      },
      "source": [
        "def g_SNRB():\r\n",
        "  plt.figure()\r\n",
        "  plt.plot(SNR1,BER,'--')\r\n",
        "  plt.title('Perbandingan BER dengan SNR')\r\n",
        "  plt.xlabel('SNR')\r\n",
        "  plt.ylabel('BER')\r\n",
        "  plt.show()\r\n",
        "\r\n",
        "g_SNRB()"
      ],
      "execution_count": 10,
      "outputs": [
        {
          "output_type": "display_data",
          "data": {
            "image/png": "[encoded data removed]",
            "text/plain": [
              "<Figure size 432x288 with 1 Axes>"
            ]
          },
          "metadata": {
            "tags": [],
            "needs_background": "light"
          }
        }
      ]
    },
    {
      "cell_type": "markdown",
      "metadata": {
        "id": "-eNV29c4SBxQ"
      },
      "source": [
        "Dilihat dari gambar disamping dapat disimpulkan bahwa perbandingan SNR dengan BER , jika BER nya semakin banyak maka SNR semakin menurun atau kurang bagus. karena jika terlalu banyak noise maka error pun semakin banyak."
      ]
    }
  ]
}