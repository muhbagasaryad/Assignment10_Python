{
  "nbformat": 4,
  "nbformat_minor": 0,
  "metadata": {
    "colab": {
      "name": "Muhammad Bagas A. D._1101180139_Tubes SKO.ipynb",
      "provenance": [],
      "collapsed_sections": [],
      "authorship_tag": "ABX9TyMTXvmQ4TwpzDvbhKvjFtCG",
      "include_colab_link": true
    },
    "kernelspec": {
      "name": "python3",
      "display_name": "Python 3"
    }
  },
  "cells": [
    {
      "cell_type": "markdown",
      "metadata": {
        "id": "view-in-github",
        "colab_type": "text"
      },
      "source": [
        "<a href=\"https://colab.research.google.com/github/muhbagasaryad/Python/blob/main/Muhammad_Bagas_A_D__1101180139_Tubes_SKO.ipynb\" target=\"_parent\"><img src=\"https://colab.research.google.com/assets/colab-badge.svg\" alt=\"Open In Colab\"/></a>"
      ]
    },
    {
      "cell_type": "markdown",
      "metadata": {
        "id": "MyxqKHLBtbaC"
      },
      "source": [
        "Nama : Muhammad Bagas Arya Darmawan \r\n",
        "\r\n",
        "NIM : 1101180139\r\n",
        "\r\n",
        "Kelas : TT-42-07"
      ]
    },
    {
      "cell_type": "code",
      "metadata": {
        "id": "6HPvuz1ptV58"
      },
      "source": [
        "import math as m\r\n",
        "import matplotlib.pyplot as plt\r\n",
        "import numpy as np"
      ],
      "execution_count": 1,
      "outputs": []
    },
    {
      "cell_type": "markdown",
      "metadata": {
        "id": "wJkigP_quEdN"
      },
      "source": [
        "Objek perancangan FTTB :\r\n",
        "\r\n",
        "--> Sentral - ODC - ODP - roset\r\n",
        "\r\n",
        "- 1 Gedung = 40 Lantai\r\n",
        "\r\n",
        "- 1 Lantai = 20 kamar\r\n",
        "\r\n",
        "- 4 Connector dan 2 spliter\r\n",
        "\r\n",
        "- 1 spliter dengan redaman 19.5 dB perbandungan 1:64 dari ONU ke ODP dan 1 spliter dengan redaman 16 dB perbandingan 1:32 dari ODP ke roset.\r\n",
        "\r\n",
        "- jenis fiber G625D dengan panjang gelombang 1310 nm dengan redaman 0.35 dB/Km\r\n",
        "\r\n",
        "- 6 Splicer dengan redaman 0.1 dB\r\n",
        "\r\n",
        "***\r\n",
        "\r\n",
        "***\r\n",
        "\r\n",
        "- Jarak Sentral ke ODP = 18 Km\r\n",
        "- Jarak ODP ke Roset = 4 x 3 = 12 meter\r\n",
        "- Total jarak = 18 Km + 12 meter = 180012 meter atau 18.012 Km"
      ]
    },
    {
      "cell_type": "markdown",
      "metadata": {
        "id": "WBjku3q-tzef"
      },
      "source": [
        "Parameter - parameter"
      ]
    },
    {
      "cell_type": "code",
      "metadata": {
        "id": "dsxKyrW9ts5c"
      },
      "source": [
        "#dayaterima (Pr)\r\n",
        "\r\n",
        "d= np.arange(1.012,18.013,1)\r\n",
        "#print(d)\r\n",
        "lf = 0.35 * d #dB (loss fiber)\r\n",
        "ns = 8 #jumlah Splicer\r\n",
        "ls = 0.1 * 6 #dB (loss Splicer dikali ns)\r\n",
        "nc = 4 #jumlah connector\r\n",
        "lc = 0.3 * 4 #dB (loss connector dikali nc)\r\n",
        "l_sp = 16 + 19.5 #dB (loss Splitter 1:64 dan 1:32)\r\n",
        "pt = 5 #dBm\r\n",
        "\r\n",
        "#SNR\r\n",
        "\r\n",
        "R = 0.85 #A/W (Responsifitas)\r\n",
        "M = -0.23 #db (Tambahan daya sinyal)\r\n",
        "lm = 3 #dB (loss margin)\r\n",
        "q = 1.6*10**-19 #Muatan\r\n",
        "#ip = 1 #\r\n",
        "id = 2*10**-7 #Ampere (arus gelap)\r\n",
        "B = 8*10**9 #Bandwith\r\n",
        "F = 1 #noise figure\r\n",
        "K = 1.38*10**-23 #k.boltzman\r\n",
        "teff = 290 #kelvin\r\n",
        "RL = 50 #\r\n",
        "\r\n",
        "#Convert\r\n",
        "\r\n",
        "NtL = lambda x : 10 * np.log10(x)\r\n",
        "LtN = lambda x : 10**(x/10)"
      ],
      "execution_count": 2,
      "outputs": []
    },
    {
      "cell_type": "markdown",
      "metadata": {
        "id": "1-lfpcd5AiPr"
      },
      "source": [
        "Fungsi Pr (daya terima)\r\n"
      ]
    },
    {
      "cell_type": "code",
      "metadata": {
        "colab": {
          "base_uri": "https://localhost:8080/"
        },
        "id": "mZD9oPzazVGb",
        "outputId": "2ffe0ac0-b3dd-45e7-a9c8-ab4c2dcc3b4e"
      },
      "source": [
        "def PR(pt,d,lf,ns,ls,nc,lc,l_sp,lm):\r\n",
        "  RT = lf + ls + lc + l_sp + lm\r\n",
        "  pr = pt - RT\r\n",
        "  return pr\r\n",
        "pr = PR(pt,d,lf,ns,ls,nc,lc,l_sp,lm)\r\n",
        "print(pr)"
      ],
      "execution_count": 3,
      "outputs": [
        {
          "output_type": "stream",
          "text": [
            "[-35.6542 -36.0042 -36.3542 -36.7042 -37.0542 -37.4042 -37.7542 -38.1042\n",
            " -38.4542 -38.8042 -39.1542 -39.5042 -39.8542 -40.2042 -40.5542 -40.9042\n",
            " -41.2542 -41.6042]\n"
          ],
          "name": "stdout"
        }
      ]
    },
    {
      "cell_type": "markdown",
      "metadata": {
        "id": "qOk4yQueE6_T"
      },
      "source": [
        "Fungsi SNR"
      ]
    },
    {
      "cell_type": "code",
      "metadata": {
        "colab": {
          "base_uri": "https://localhost:8080/"
        },
        "id": "JvXKnCsU_g1j",
        "outputId": "c2f5acfd-0cf6-463a-9ccf-aac9474b79cb"
      },
      "source": [
        "#Arus primer\r\n",
        "def ap(pr):\r\n",
        "  pr_num = LtN(pr)\r\n",
        "  ip = pr_num * R\r\n",
        "  return ip\r\n",
        "ip = ap(pr)\r\n",
        "#print(ip)\r\n",
        "\r\n",
        "#BDC\r\n",
        "def bdc(q,id,B,M,F):\r\n",
        "  BDC = 2*q*id*B*M*M*F\r\n",
        "  return BDC\r\n",
        "BDC = bdc(q,id,B,M,F)\r\n",
        "#print(BDC)\r\n",
        "\r\n",
        "#SN (shot noise)\r\n",
        "def sn(q,ip,B,M,F):\r\n",
        "  SN = 2*q*ip*B*M*M*F\r\n",
        "  return SN\r\n",
        "SN = sn(q,ip,B,M,F)\r\n",
        "#print(SN)\r\n",
        "\r\n",
        "#NT (noise thermal)\r\n",
        "def nt(K,teff,B,RL):\r\n",
        "  NT = (4*K*teff*B)/RL\r\n",
        "  return NT\r\n",
        "NT = nt(K,teff,B,RL)\r\n",
        "#print(NT)\r\n",
        "\r\n",
        "#SNR (signal noise ratio)\r\n",
        "def snr(BDC,SN,NT,M,ip):\r\n",
        "  SNR = ((ip)**2 * M**2)/(BDC + SN + NT)\r\n",
        "  SNR1 = NtL(SNR) #dalam dB \r\n",
        "  return SNR1\r\n",
        "SNR1 = snr(BDC,SN,NT,M,ip)\r\n",
        "print(SNR1) #dB"
      ],
      "execution_count": 4,
      "outputs": [
        {
          "output_type": "stream",
          "text": [
            "[30.37715006 29.68121304 28.9849648  28.28842895 27.59162733 26.89458015\n",
            " 26.19730612 25.49982253 24.80214541 24.10428952 23.40626856 22.70809517\n",
            " 22.00978102 21.31133693 20.61277285 19.91409802 19.21532094 18.51644947]\n"
          ],
          "name": "stdout"
        }
      ]
    },
    {
      "cell_type": "markdown",
      "metadata": {
        "id": "y7PO0yi1UDOX"
      },
      "source": [
        "Fungsi Q-Faktor"
      ]
    },
    {
      "cell_type": "code",
      "metadata": {
        "colab": {
          "base_uri": "https://localhost:8080/"
        },
        "id": "jnlToLOtFYbi",
        "outputId": "3b087413-a6a9-4f86-902b-2e9cd99268ef"
      },
      "source": [
        "#Q-Faktor\r\n",
        "def qf(SNR1):\r\n",
        "  qf = 10**(SNR1/20)\r\n",
        "  return qf\r\n",
        "QF = qf(SNR1)\r\n",
        "print(QF)"
      ],
      "execution_count": 5,
      "outputs": [
        {
          "output_type": "stream",
          "text": [
            "[33.02611608 30.48320678 28.13508556 25.96698025 23.96521703 22.11714205\n",
            " 20.41104808 18.83610604 17.38230117 16.04037348 14.80176238 13.65855508\n",
            " 12.60343863 11.6296554  10.73096164  9.90158912  9.13620944  8.42990098]\n"
          ],
          "name": "stdout"
        }
      ]
    },
    {
      "cell_type": "markdown",
      "metadata": {
        "id": "vwPxljqle_iR"
      },
      "source": [
        "Fungsi BER "
      ]
    },
    {
      "cell_type": "code",
      "metadata": {
        "colab": {
          "base_uri": "https://localhost:8080/"
        },
        "id": "364cbuIFZH7Y",
        "outputId": "bf57755c-3e28-44e0-9515-20c9e7bb5485"
      },
      "source": [
        "def ber(QF):\r\n",
        "  phi = 3.14159\r\n",
        "  BER = (1/(QF*np.sqrt(2*phi)))*(np.exp(-QF**2/2))\r\n",
        "  return BER\r\n",
        "BER = ber(QF)\r\n",
        "print(BER)"
      ],
      "execution_count": 6,
      "outputs": [
        {
          "output_type": "stream",
          "text": [
            "[1.71502701e-239 2.17776090e-204 1.82637092e-174 5.85551205e-149\n",
            " 3.21218559e-127 1.08319246e-108 6.68560900e-093 1.91566199e-079\n",
            " 5.63613625e-068 3.35046016e-058 7.16698787e-050 9.02313089e-043\n",
            " 1.01696516e-036 1.46697003e-031 3.67281102e-027 2.06905128e-023\n",
            " 3.27185374e-020 1.75349008e-017]\n"
          ],
          "name": "stdout"
        }
      ]
    },
    {
      "cell_type": "markdown",
      "metadata": {
        "id": "cS6i2eIH-xn_"
      },
      "source": [
        "Grafik SNR"
      ]
    },
    {
      "cell_type": "code",
      "metadata": {
        "colab": {
          "base_uri": "https://localhost:8080/",
          "height": 295
        },
        "id": "QwY2wJJ8-NwR",
        "outputId": "bc8fc310-1f01-4906-ecbe-7a9af6f80e33"
      },
      "source": [
        "def g_snr():\r\n",
        "  plt.figure()\r\n",
        "  plt.plot(d,SNR1,'--')\r\n",
        "  plt.title('Perbandingan Jarak dengan SNR')\r\n",
        "  plt.xlabel('Jarak (Km)')\r\n",
        "  plt.ylabel('SNR (dB)')\r\n",
        "  plt.show()\r\n",
        "\r\n",
        "g_snr()"
      ],
      "execution_count": 7,
      "outputs": [
        {
          "output_type": "display_data",
          "data": {
            "image/png": "[encoded data removed]",
            "text/plain": [
              "<Figure size 432x288 with 1 Axes>"
            ]
          },
          "metadata": {
            "tags": [],
            "needs_background": "light"
          }
        }
      ]
    },
    {
      "cell_type": "markdown",
      "metadata": {
        "id": "13KzCVYOzGi-"
      },
      "source": [
        "dari gambar diatas dapat di simpulkan bahwa jika jarak semakin besar makan SNR semakin kecil, maka dari itu semakin jauh jarak, SNR semakin kurang bagus"
      ]
    },
    {
      "cell_type": "markdown",
      "metadata": {
        "id": "iv9vHN9I_PK2"
      },
      "source": [
        "Grafik Q-Faktor"
      ]
    },
    {
      "cell_type": "code",
      "metadata": {
        "colab": {
          "base_uri": "https://localhost:8080/",
          "height": 295
        },
        "id": "fSBDnllN_X1J",
        "outputId": "e949e35e-106b-4321-f7da-06e6479de543"
      },
      "source": [
        "def g_Q():\r\n",
        "  plt.figure()\r\n",
        "  plt.plot(d,QF,'--')\r\n",
        "  plt.title('Perbandingan Jarak dengan Q')\r\n",
        "  plt.xlabel('Jarak (Km)')\r\n",
        "  plt.ylabel('Q')\r\n",
        "  plt.show()\r\n",
        "\r\n",
        "g_Q()"
      ],
      "execution_count": 8,
      "outputs": [
        {
          "output_type": "display_data",
          "data": {
            "image/png": "[encoded data removed]",
            "text/plain": [
              "<Figure size 432x288 with 1 Axes>"
            ]
          },
          "metadata": {
            "tags": [],
            "needs_background": "light"
          }
        }
      ]
    },
    {
      "cell_type": "markdown",
      "metadata": {
        "id": "Sp2dgx5Szt_b"
      },
      "source": [
        "dilihat dari gambar diatas dapat disimpulkan bahwa perbandingan jarak dengan Q, dimana jika jarak semakin jauh maka Q semakin kecil."
      ]
    },
    {
      "cell_type": "markdown",
      "metadata": {
        "id": "F4VK7Omy_R6L"
      },
      "source": [
        "Grafik BER"
      ]
    },
    {
      "cell_type": "code",
      "metadata": {
        "colab": {
          "base_uri": "https://localhost:8080/",
          "height": 295
        },
        "id": "VsmWrCnx_cqM",
        "outputId": "1e40296b-6e64-4b32-8066-f071fb455139"
      },
      "source": [
        "def g_BER():\r\n",
        "  plt.figure()\r\n",
        "  plt.plot(d,BER,'--')\r\n",
        "  plt.title('Perbandingan Jarak dengan BER')\r\n",
        "  plt.xlabel('Jarak (Km)')\r\n",
        "  plt.ylabel('BER')\r\n",
        "  plt.show()\r\n",
        "\r\n",
        "g_BER()"
      ],
      "execution_count": 9,
      "outputs": [
        {
          "output_type": "display_data",
          "data": {
            "image/png": "[encoded data removed]",
            "text/plain": [
              "<Figure size 432x288 with 1 Axes>"
            ]
          },
          "metadata": {
            "tags": [],
            "needs_background": "light"
          }
        }
      ]
    },
    {
      "cell_type": "markdown",
      "metadata": {
        "id": "MBrySevbz9Xu"
      },
      "source": [
        "dilihat dari gambar diatas dapat disimpulkan bahwa jarak yang dilalui dari 0 hingga kurang dari 17.5 BER konstan, lalu ketika jarak melebihi itu BER langsung melonjak naik, maka semakin jelek BER nya jika jarak sudah melebihi jarak >= +/-17.5"
      ]
    },
    {
      "cell_type": "markdown",
      "metadata": {
        "id": "H6B2RV1jH2jv"
      },
      "source": [
        "Grafik perbandingan BER dengan SNR"
      ]
    },
    {
      "cell_type": "code",
      "metadata": {
        "colab": {
          "base_uri": "https://localhost:8080/",
          "height": 295
        },
        "id": "frEcXpOEH1VZ",
        "outputId": "a5bd374e-b816-4271-b46e-13f5c2183d92"
      },
      "source": [
        "def g_SNRB():\r\n",
        "  plt.figure()\r\n",
        "  plt.plot(SNR1,BER,'--')\r\n",
        "  plt.title('Perbandingan BER dengan SNR')\r\n",
        "  plt.xlabel('SNR')\r\n",
        "  plt.ylabel('BER')\r\n",
        "  plt.show()\r\n",
        "\r\n",
        "g_SNRB()"
      ],
      "execution_count": 10,
      "outputs": [
        {
          "output_type": "display_data",
          "data": {
            "image/png": "[encoded data removed]",
            "text/plain": [
              "<Figure size 432x288 with 1 Axes>"
            ]
          },
          "metadata": {
            "tags": [],
            "needs_background": "light"
          }
        }
      ]
    },
    {
      "cell_type": "markdown",
      "metadata": {
        "id": "-eNV29c4SBxQ"
      },
      "source": [
        "Dilihat dari gambar disamping dapat disimpulkan bahwa perbandingan SNR dengan BER , jika BER nya semakin banyak maka SNR semakin menurun atau kurang bagus. karena jika terlalu banyak noise maka error pun semakin banyak."
      ]
    }
  ]
}